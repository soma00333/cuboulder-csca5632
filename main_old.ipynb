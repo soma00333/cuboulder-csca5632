{
 "cells": [
  {
   "cell_type": "markdown",
   "metadata": {},
   "source": [
    "# BBC News Classification (Part 1)\n",
    "\n",
    "このノートブックは、次の手順で Part 1 の課題を進めます:\n",
    "\n",
    "1. **探索的データ解析（EDA）**  \n",
    "2. **教師なし学習（行列分解によるモデル構築）**  \n",
    "3. **教師あり学習との比較**\n",
    "\n",
    "---\n",
    "\n",
    "## 1. セットアップ & データ読み込み\n"
   ]
  },
  {
   "cell_type": "code",
   "execution_count": 54,
   "metadata": {},
   "outputs": [],
   "source": [
    "import numpy as np\n",
    "import pandas as pd\n",
    "import matplotlib.pyplot as plt\n",
    "import seaborn as sns\n",
    "\n",
    "# テキスト処理系\n",
    "import re\n",
    "import string\n",
    "\n",
    "# Scikit-learn 関連\n",
    "from sklearn.feature_extraction.text import TfidfVectorizer, CountVectorizer\n",
    "from sklearn.decomposition import NMF\n",
    "from sklearn.model_selection import train_test_split\n",
    "from sklearn.metrics import confusion_matrix, accuracy_score, classification_report\n",
    "\n",
    "# 教師あり学習用モデル（比較用）\n",
    "from sklearn.linear_model import LogisticRegression\n",
    "from sklearn.naive_bayes import MultinomialNB\n",
    "\n",
    "# 再現性確保のための乱数シード\n",
    "RANDOM_SEED = 42\n"
   ]
  },
  {
   "cell_type": "markdown",
   "metadata": {},
   "source": [
    "### データ読み込み\n",
    "\n",
    "今回の Kaggle コンペティションでは以下のファイルが提供されています：\n",
    "- **BBC News Train.csv**（学習用：1490レコード）\n",
    "- **BBC News Test.csv**（テスト用：736レコード）\n",
    "- **BBC News Sample Solution.csv**（提出フォーマットのサンプル）\n",
    "\n",
    "フォルダ構成は以下を想定しています:\n",
    ".\n",
    "├── README.md\n",
    "├── learn-ai-bbc\n",
    "│   ├── BBC News Sample Solution.csv\n",
    "│   ├── BBC News Test.csv\n",
    "│   └── BBC News Train.csv\n",
    "└── main.ipynb\n"
   ]
  },
  {
   "cell_type": "code",
   "execution_count": 55,
   "metadata": {},
   "outputs": [
    {
     "name": "stdout",
     "output_type": "stream",
     "text": [
      "Train shape: (1490, 3)\n",
      "Test shape: (735, 2)\n"
     ]
    },
    {
     "data": {
      "text/html": [
       "<div>\n",
       "<style scoped>\n",
       "    .dataframe tbody tr th:only-of-type {\n",
       "        vertical-align: middle;\n",
       "    }\n",
       "\n",
       "    .dataframe tbody tr th {\n",
       "        vertical-align: top;\n",
       "    }\n",
       "\n",
       "    .dataframe thead th {\n",
       "        text-align: right;\n",
       "    }\n",
       "</style>\n",
       "<table border=\"1\" class=\"dataframe\">\n",
       "  <thead>\n",
       "    <tr style=\"text-align: right;\">\n",
       "      <th></th>\n",
       "      <th>ArticleId</th>\n",
       "      <th>Text</th>\n",
       "      <th>Category</th>\n",
       "    </tr>\n",
       "  </thead>\n",
       "  <tbody>\n",
       "    <tr>\n",
       "      <th>0</th>\n",
       "      <td>1833</td>\n",
       "      <td>worldcom ex-boss launches defence lawyers defe...</td>\n",
       "      <td>business</td>\n",
       "    </tr>\n",
       "    <tr>\n",
       "      <th>1</th>\n",
       "      <td>154</td>\n",
       "      <td>german business confidence slides german busin...</td>\n",
       "      <td>business</td>\n",
       "    </tr>\n",
       "    <tr>\n",
       "      <th>2</th>\n",
       "      <td>1101</td>\n",
       "      <td>bbc poll indicates economic gloom citizens in ...</td>\n",
       "      <td>business</td>\n",
       "    </tr>\n",
       "    <tr>\n",
       "      <th>3</th>\n",
       "      <td>1976</td>\n",
       "      <td>lifestyle  governs mobile choice  faster  bett...</td>\n",
       "      <td>tech</td>\n",
       "    </tr>\n",
       "    <tr>\n",
       "      <th>4</th>\n",
       "      <td>917</td>\n",
       "      <td>enron bosses in $168m payout eighteen former e...</td>\n",
       "      <td>business</td>\n",
       "    </tr>\n",
       "  </tbody>\n",
       "</table>\n",
       "</div>"
      ],
      "text/plain": [
       "   ArticleId                                               Text  Category\n",
       "0       1833  worldcom ex-boss launches defence lawyers defe...  business\n",
       "1        154  german business confidence slides german busin...  business\n",
       "2       1101  bbc poll indicates economic gloom citizens in ...  business\n",
       "3       1976  lifestyle  governs mobile choice  faster  bett...      tech\n",
       "4        917  enron bosses in $168m payout eighteen former e...  business"
      ]
     },
     "execution_count": 55,
     "metadata": {},
     "output_type": "execute_result"
    }
   ],
   "source": [
    "# パスは環境に合わせて調整してください\n",
    "train_df = pd.read_csv('./learn-ai-bbc/BBC News Train.csv')\n",
    "test_df = pd.read_csv('./learn-ai-bbc/BBC News Test.csv')\n",
    "\n",
    "print(\"Train shape:\", train_df.shape)\n",
    "print(\"Test shape:\", test_df.shape)\n",
    "\n",
    "# トレーニングデータをざっと確認\n",
    "train_df.head()\n"
   ]
  },
  {
   "cell_type": "markdown",
   "metadata": {},
   "source": [
    "トレーニングセットには以下のような列があります：\n",
    "- **ArticleId**: ユニークID\n",
    "- **Article**: 記事のテキスト本文\n",
    "- **Category**: カテゴリ（sport, tech, business, entertainment, politics のいずれか）\n",
    "\n",
    "---\n",
    "## 2. 探索的データ解析 (EDA)\n"
   ]
  },
  {
   "cell_type": "code",
   "execution_count": 56,
   "metadata": {},
   "outputs": [
    {
     "name": "stdout",
     "output_type": "stream",
     "text": [
      "<class 'pandas.core.frame.DataFrame'>\n",
      "RangeIndex: 1490 entries, 0 to 1489\n",
      "Data columns (total 3 columns):\n",
      " #   Column     Non-Null Count  Dtype \n",
      "---  ------     --------------  ----- \n",
      " 0   ArticleId  1490 non-null   int64 \n",
      " 1   Text       1490 non-null   object\n",
      " 2   Category   1490 non-null   object\n",
      "dtypes: int64(1), object(2)\n",
      "memory usage: 35.1+ KB\n",
      "None\n",
      "         ArticleId\n",
      "count  1490.000000\n",
      "mean   1119.696644\n",
      "std     641.826283\n",
      "min       2.000000\n",
      "25%     565.250000\n",
      "50%    1112.500000\n",
      "75%    1680.750000\n",
      "max    2224.000000\n"
     ]
    },
    {
     "data": {
      "image/png": "[encoded data removed]",
      "text/plain": [
       "<Figure size 600x400 with 1 Axes>"
      ]
     },
     "metadata": {},
     "output_type": "display_data"
    }
   ],
   "source": [
    "# トレーニングデータの基本情報\n",
    "print(train_df.info())\n",
    "print(train_df.describe())\n",
    "\n",
    "# カテゴリの分布を可視化\n",
    "plt.figure(figsize=(6,4))\n",
    "sns.countplot(x='Category', data=train_df)\n",
    "plt.title(\"Category distribution (training data)\")\n",
    "plt.show()\n"
   ]
  },
  {
   "cell_type": "markdown",
   "metadata": {},
   "source": [
    "### 初期観察\n",
    "\n",
    "- カテゴリの偏り（不均衡）があるかどうか\n",
    "- テキストの長さなどを確認する\n",
    "\n",
    "#### テキスト長の分布\n"
   ]
  },
  {
   "cell_type": "code",
   "execution_count": 57,
   "metadata": {},
   "outputs": [
    {
     "data": {
      "image/png": "[encoded data removed]",
      "text/plain": [
       "<Figure size 800x500 with 1 Axes>"
      ]
     },
     "metadata": {},
     "output_type": "display_data"
    },
    {
     "data": {
      "text/html": [
       "<div>\n",
       "<style scoped>\n",
       "    .dataframe tbody tr th:only-of-type {\n",
       "        vertical-align: middle;\n",
       "    }\n",
       "\n",
       "    .dataframe tbody tr th {\n",
       "        vertical-align: top;\n",
       "    }\n",
       "\n",
       "    .dataframe thead th {\n",
       "        text-align: right;\n",
       "    }\n",
       "</style>\n",
       "<table border=\"1\" class=\"dataframe\">\n",
       "  <thead>\n",
       "    <tr style=\"text-align: right;\">\n",
       "      <th></th>\n",
       "      <th>text_length</th>\n",
       "    </tr>\n",
       "  </thead>\n",
       "  <tbody>\n",
       "    <tr>\n",
       "      <th>count</th>\n",
       "      <td>1490.000000</td>\n",
       "    </tr>\n",
       "    <tr>\n",
       "      <th>mean</th>\n",
       "      <td>385.012752</td>\n",
       "    </tr>\n",
       "    <tr>\n",
       "      <th>std</th>\n",
       "      <td>210.898616</td>\n",
       "    </tr>\n",
       "    <tr>\n",
       "      <th>min</th>\n",
       "      <td>90.000000</td>\n",
       "    </tr>\n",
       "    <tr>\n",
       "      <th>25%</th>\n",
       "      <td>253.000000</td>\n",
       "    </tr>\n",
       "    <tr>\n",
       "      <th>50%</th>\n",
       "      <td>337.000000</td>\n",
       "    </tr>\n",
       "    <tr>\n",
       "      <th>75%</th>\n",
       "      <td>468.750000</td>\n",
       "    </tr>\n",
       "    <tr>\n",
       "      <th>max</th>\n",
       "      <td>3345.000000</td>\n",
       "    </tr>\n",
       "  </tbody>\n",
       "</table>\n",
       "</div>"
      ],
      "text/plain": [
       "       text_length\n",
       "count  1490.000000\n",
       "mean    385.012752\n",
       "std     210.898616\n",
       "min      90.000000\n",
       "25%     253.000000\n",
       "50%     337.000000\n",
       "75%     468.750000\n",
       "max    3345.000000"
      ]
     },
     "execution_count": 57,
     "metadata": {},
     "output_type": "execute_result"
    }
   ],
   "source": [
    "# テキスト長をカウントしてみる\n",
    "train_df['text_length'] = train_df['Text'].apply(lambda x: len(str(x).split()))\n",
    "plt.figure(figsize=(8,5))\n",
    "sns.histplot(train_df['text_length'], bins=30, kde=True)\n",
    "plt.title(\"Text length distribution (word count)\")\n",
    "plt.show()\n",
    "\n",
    "train_df[['Text', 'text_length']].describe()\n"
   ]
  },
  {
   "cell_type": "markdown",
   "metadata": {},
   "source": [
    "### データクレンジングの方針\n",
    "\n",
    "- 欠損値（NaN）があるか確認\n",
    "- 句読点の削除や小文字化\n",
    "- ストップワード除去やステミング／ルマタイジングを行うかどうか\n",
    "\n",
    "ここでは簡単な方針として：\n",
    "1. 小文字化\n",
    "2. 句読点・数字の削除\n",
    "3. （必要に応じて）ストップワード除去\n"
   ]
  },
  {
   "cell_type": "code",
   "execution_count": 58,
   "metadata": {},
   "outputs": [
    {
     "name": "stdout",
     "output_type": "stream",
     "text": [
      "Missing values in training set:\n",
      " ArticleId      0\n",
      "Text           0\n",
      "Category       0\n",
      "text_length    0\n",
      "dtype: int64\n",
      "Missing values in test set:\n",
      " ArticleId    0\n",
      "Text         0\n",
      "dtype: int64\n"
     ]
    }
   ],
   "source": [
    "# 欠損値の確認\n",
    "print(\"Missing values in training set:\\n\", train_df.isnull().sum())\n",
    "print(\"Missing values in test set:\\n\", test_df.isnull().sum())\n"
   ]
  },
  {
   "cell_type": "markdown",
   "metadata": {},
   "source": [
    "---\n",
    "## 3. テキスト前処理 & 特徴量作成\n",
    "\n",
    "ここでは、テキストクリーニング関数を作成し、**TF-IDF**（もしくは別の手法）によってベクトル化してみます。\n"
   ]
  },
  {
   "cell_type": "code",
   "execution_count": 59,
   "metadata": {},
   "outputs": [
    {
     "name": "stderr",
     "output_type": "stream",
     "text": [
      "[nltk_data] Downloading package stopwords to\n",
      "[nltk_data]     /Users/soma.utsumi/nltk_data...\n",
      "[nltk_data]   Package stopwords is already up-to-date!\n"
     ]
    },
    {
     "data": {
      "text/html": [
       "<div>\n",
       "<style scoped>\n",
       "    .dataframe tbody tr th:only-of-type {\n",
       "        vertical-align: middle;\n",
       "    }\n",
       "\n",
       "    .dataframe tbody tr th {\n",
       "        vertical-align: top;\n",
       "    }\n",
       "\n",
       "    .dataframe thead th {\n",
       "        text-align: right;\n",
       "    }\n",
       "</style>\n",
       "<table border=\"1\" class=\"dataframe\">\n",
       "  <thead>\n",
       "    <tr style=\"text-align: right;\">\n",
       "      <th></th>\n",
       "      <th>ArticleId</th>\n",
       "      <th>Text</th>\n",
       "      <th>Category</th>\n",
       "      <th>text_length</th>\n",
       "      <th>cleaned_text</th>\n",
       "    </tr>\n",
       "  </thead>\n",
       "  <tbody>\n",
       "    <tr>\n",
       "      <th>0</th>\n",
       "      <td>1833</td>\n",
       "      <td>worldcom ex-boss launches defence lawyers defe...</td>\n",
       "      <td>business</td>\n",
       "      <td>301</td>\n",
       "      <td>worldcom exboss launches defence lawyers defen...</td>\n",
       "    </tr>\n",
       "    <tr>\n",
       "      <th>1</th>\n",
       "      <td>154</td>\n",
       "      <td>german business confidence slides german busin...</td>\n",
       "      <td>business</td>\n",
       "      <td>325</td>\n",
       "      <td>german business confidence slides german busin...</td>\n",
       "    </tr>\n",
       "    <tr>\n",
       "      <th>2</th>\n",
       "      <td>1101</td>\n",
       "      <td>bbc poll indicates economic gloom citizens in ...</td>\n",
       "      <td>business</td>\n",
       "      <td>514</td>\n",
       "      <td>bbc poll indicates economic gloom citizens in ...</td>\n",
       "    </tr>\n",
       "    <tr>\n",
       "      <th>3</th>\n",
       "      <td>1976</td>\n",
       "      <td>lifestyle  governs mobile choice  faster  bett...</td>\n",
       "      <td>tech</td>\n",
       "      <td>634</td>\n",
       "      <td>lifestyle governs mobile choice faster better ...</td>\n",
       "    </tr>\n",
       "    <tr>\n",
       "      <th>4</th>\n",
       "      <td>917</td>\n",
       "      <td>enron bosses in $168m payout eighteen former e...</td>\n",
       "      <td>business</td>\n",
       "      <td>355</td>\n",
       "      <td>enron bosses in m payout eighteen former enron...</td>\n",
       "    </tr>\n",
       "  </tbody>\n",
       "</table>\n",
       "</div>"
      ],
      "text/plain": [
       "   ArticleId                                               Text  Category  \\\n",
       "0       1833  worldcom ex-boss launches defence lawyers defe...  business   \n",
       "1        154  german business confidence slides german busin...  business   \n",
       "2       1101  bbc poll indicates economic gloom citizens in ...  business   \n",
       "3       1976  lifestyle  governs mobile choice  faster  bett...      tech   \n",
       "4        917  enron bosses in $168m payout eighteen former e...  business   \n",
       "\n",
       "   text_length                                       cleaned_text  \n",
       "0          301  worldcom exboss launches defence lawyers defen...  \n",
       "1          325  german business confidence slides german busin...  \n",
       "2          514  bbc poll indicates economic gloom citizens in ...  \n",
       "3          634  lifestyle governs mobile choice faster better ...  \n",
       "4          355  enron bosses in m payout eighteen former enron...  "
      ]
     },
     "execution_count": 59,
     "metadata": {},
     "output_type": "execute_result"
    }
   ],
   "source": [
    "import nltk\n",
    "nltk.download('stopwords')\n",
    "from nltk.corpus import stopwords\n",
    "\n",
    "STOPWORDS = set(stopwords.words('english'))\n",
    "\n",
    "def clean_text(text):\n",
    "    \"\"\"\n",
    "    シンプルなテキストクリーニング：\n",
    "    1. 小文字化\n",
    "    2. 句読点や数字の削除\n",
    "    3. ホワイトスペースの整理\n",
    "    4. （オプション）ストップワード除去\n",
    "    \"\"\"\n",
    "    text = text.lower()\n",
    "    text = re.sub(r'[^a-z\\s]', '', text)  # 句読点・数字などを削除\n",
    "    text = text.split()\n",
    "    # text = [word for word in text if word not in STOPWORDS]  # ストップワードを除去する場合\n",
    "    text = ' '.join(text)\n",
    "    return text\n",
    "\n",
    "# トレーニング、テスト両方に適用\n",
    "train_df['cleaned_text'] = train_df['Text'].apply(clean_text)\n",
    "test_df['cleaned_text']  = test_df['Text'].apply(clean_text)\n",
    "\n",
    "train_df.head()\n"
   ]
  },
  {
   "cell_type": "markdown",
   "metadata": {},
   "source": [
    "### ベクトル化\n",
    "\n",
    "次に、クレンジング後のテキストを **TF-IDF** で特徴量ベクトル化します。 \n"
   ]
  },
  {
   "cell_type": "code",
   "execution_count": 60,
   "metadata": {},
   "outputs": [],
   "source": [
    "# CountVectorizer でも構いませんが、例として TfidfVectorizer を使用\n",
    "tfidf = TfidfVectorizer(\n",
    "    max_features=2000,       # 特徴量の上限。調整可能\n",
    "    stop_words='english',    # 追加で英語のストップワードを適用\n",
    "    min_df=2,                # 非常に稀な単語を無視\n",
    "    max_df=0.8               # 極端に出現頻度の高い単語を無視\n",
    ")\n",
    "\n",
    "# トレーニングデータの cleaned_text を元に fit\n",
    "X_train_tfidf = tfidf.fit_transform(train_df['cleaned_text'])\n",
    "\n",
    "# テストデータにはまだ transform のみ（後ほど必要に応じて行う）\n"
   ]
  },
  {
   "cell_type": "markdown",
   "metadata": {},
   "source": [
    "**ポイント**:  \n",
    "**教師なし学習**（行列分解）で、テストデータを学習に含めるかどうかは議論の余地があります。  \n",
    "実際には「未知のテストデータは学習に使わない」が一般的ですが、全テキストでトピックを発見する手法としてはテストデータを含める場合もあります。  \n",
    "ここでは「テストデータは学習に含めない」方針で進め、あとでテストデータを transform のみして結果を得ます。\n",
    "\n",
    "---\n",
    "## 4. 教師なし学習 (行列分解: NMF)\n",
    "\n",
    "`sklearn.decomposition` の **NMF** を使い、以下のように行列分解します:\n",
    "\n",
    "1. TF-IDF 行列を `W * H` に分解\n",
    "2. 行列 **W** は「文書×トピック」行列、行列 **H** は「トピック×単語」行列\n",
    "\n",
    "文書ごとに最もウェイトが大きいトピックを予測ラベルにする方法などで精度を測り、元のカテゴリと比較します。\n"
   ]
  },
  {
   "cell_type": "code",
   "execution_count": 61,
   "metadata": {},
   "outputs": [
    {
     "name": "stdout",
     "output_type": "stream",
     "text": [
      "W shape: (1490, 5)\n",
      "H shape: (5, 2000)\n"
     ]
    }
   ],
   "source": [
    "num_topics = 5  # カテゴリが5種類なので、とりあえず n_components=5 としてみる\n",
    "\n",
    "nmf_model = NMF(\n",
    "    n_components=num_topics, \n",
    "    random_state=RANDOM_SEED,\n",
    "    init='nndsvd',  # NMFでよく使われる初期化\n",
    "    max_iter=200    # 適宜調整可能\n",
    ")\n",
    "\n",
    "W = nmf_model.fit_transform(X_train_tfidf)  # 形状: (文書数, トピック数)\n",
    "H = nmf_model.components_                   # 形状: (トピック数, 単語数)\n",
    "\n",
    "print(\"W shape:\", W.shape)\n",
    "print(\"H shape:\", H.shape)\n"
   ]
  },
  {
   "cell_type": "markdown",
   "metadata": {},
   "source": [
    "### NMFで得られたトピックの解釈\n",
    "\n",
    "`H` の各行（各トピック）において、値が大きい単語がそのトピックの代表語です。\n"
   ]
  },
  {
   "cell_type": "code",
   "execution_count": 62,
   "metadata": {},
   "outputs": [
    {
     "name": "stdout",
     "output_type": "stream",
     "text": [
      "トピック 1: england, game, win, wales, ireland, cup, players, play, france, chelsea\n",
      "トピック 2: mr, labour, blair, election, brown, party, government, minister, prime, howard\n",
      "トピック 3: bn, growth, economy, year, sales, market, bank, oil, economic, shares\n",
      "トピック 4: film, best, awards, award, actor, films, actress, festival, won, director\n",
      "トピック 5: people, mobile, music, phone, technology, digital, users, software, phones, broadband\n"
     ]
    }
   ],
   "source": [
    "feature_names = tfidf.get_feature_names_out()\n",
    "\n",
    "def show_top_words_per_topic(H, feature_names, top_n=10):\n",
    "    for idx, topic_vec in enumerate(H):\n",
    "        # 値が大きい順にソート\n",
    "        top_indices = topic_vec.argsort()[::-1][:top_n]\n",
    "        top_words = [feature_names[i] for i in top_indices]\n",
    "        print(f\"トピック {idx+1}:\", \", \".join(top_words))\n",
    "\n",
    "show_top_words_per_topic(H, feature_names, top_n=10)\n"
   ]
  },
  {
   "cell_type": "markdown",
   "metadata": {},
   "source": [
    "トピックがどのカテゴリに対応しているかを推測するために、代表語を見て「スポーツっぽい」「政治っぽい」などを探ります。\n",
    "\n",
    "### トピックからカテゴリへの割り当て\n",
    "\n",
    "単純な方法として：\n",
    "1. 文書（訓練データ）について `W` の最大値のトピックを取得\n",
    "2. その文書が実際どのカテゴリかを見て、多数決で「トピック → 推定カテゴリ」を決める\n",
    "\n"
   ]
  },
  {
   "cell_type": "code",
   "execution_count": 63,
   "metadata": {},
   "outputs": [
    {
     "data": {
      "text/html": [
       "<div>\n",
       "<style scoped>\n",
       "    .dataframe tbody tr th:only-of-type {\n",
       "        vertical-align: middle;\n",
       "    }\n",
       "\n",
       "    .dataframe tbody tr th {\n",
       "        vertical-align: top;\n",
       "    }\n",
       "\n",
       "    .dataframe thead th {\n",
       "        text-align: right;\n",
       "    }\n",
       "</style>\n",
       "<table border=\"1\" class=\"dataframe\">\n",
       "  <thead>\n",
       "    <tr style=\"text-align: right;\">\n",
       "      <th></th>\n",
       "      <th>topic</th>\n",
       "      <th>Category</th>\n",
       "      <th>count</th>\n",
       "    </tr>\n",
       "  </thead>\n",
       "  <tbody>\n",
       "    <tr>\n",
       "      <th>0</th>\n",
       "      <td>0</td>\n",
       "      <td>business</td>\n",
       "      <td>1</td>\n",
       "    </tr>\n",
       "    <tr>\n",
       "      <th>1</th>\n",
       "      <td>0</td>\n",
       "      <td>entertainment</td>\n",
       "      <td>4</td>\n",
       "    </tr>\n",
       "    <tr>\n",
       "      <th>2</th>\n",
       "      <td>0</td>\n",
       "      <td>politics</td>\n",
       "      <td>2</td>\n",
       "    </tr>\n",
       "    <tr>\n",
       "      <th>3</th>\n",
       "      <td>0</td>\n",
       "      <td>sport</td>\n",
       "      <td>343</td>\n",
       "    </tr>\n",
       "    <tr>\n",
       "      <th>4</th>\n",
       "      <td>0</td>\n",
       "      <td>tech</td>\n",
       "      <td>5</td>\n",
       "    </tr>\n",
       "    <tr>\n",
       "      <th>5</th>\n",
       "      <td>1</td>\n",
       "      <td>business</td>\n",
       "      <td>15</td>\n",
       "    </tr>\n",
       "    <tr>\n",
       "      <th>6</th>\n",
       "      <td>1</td>\n",
       "      <td>entertainment</td>\n",
       "      <td>7</td>\n",
       "    </tr>\n",
       "    <tr>\n",
       "      <th>7</th>\n",
       "      <td>1</td>\n",
       "      <td>politics</td>\n",
       "      <td>252</td>\n",
       "    </tr>\n",
       "    <tr>\n",
       "      <th>8</th>\n",
       "      <td>1</td>\n",
       "      <td>tech</td>\n",
       "      <td>1</td>\n",
       "    </tr>\n",
       "    <tr>\n",
       "      <th>9</th>\n",
       "      <td>2</td>\n",
       "      <td>business</td>\n",
       "      <td>307</td>\n",
       "    </tr>\n",
       "    <tr>\n",
       "      <th>10</th>\n",
       "      <td>2</td>\n",
       "      <td>entertainment</td>\n",
       "      <td>5</td>\n",
       "    </tr>\n",
       "    <tr>\n",
       "      <th>11</th>\n",
       "      <td>2</td>\n",
       "      <td>politics</td>\n",
       "      <td>11</td>\n",
       "    </tr>\n",
       "    <tr>\n",
       "      <th>12</th>\n",
       "      <td>2</td>\n",
       "      <td>sport</td>\n",
       "      <td>1</td>\n",
       "    </tr>\n",
       "    <tr>\n",
       "      <th>13</th>\n",
       "      <td>2</td>\n",
       "      <td>tech</td>\n",
       "      <td>1</td>\n",
       "    </tr>\n",
       "    <tr>\n",
       "      <th>14</th>\n",
       "      <td>3</td>\n",
       "      <td>business</td>\n",
       "      <td>1</td>\n",
       "    </tr>\n",
       "    <tr>\n",
       "      <th>15</th>\n",
       "      <td>3</td>\n",
       "      <td>entertainment</td>\n",
       "      <td>214</td>\n",
       "    </tr>\n",
       "    <tr>\n",
       "      <th>16</th>\n",
       "      <td>3</td>\n",
       "      <td>sport</td>\n",
       "      <td>2</td>\n",
       "    </tr>\n",
       "    <tr>\n",
       "      <th>17</th>\n",
       "      <td>3</td>\n",
       "      <td>tech</td>\n",
       "      <td>4</td>\n",
       "    </tr>\n",
       "    <tr>\n",
       "      <th>18</th>\n",
       "      <td>4</td>\n",
       "      <td>business</td>\n",
       "      <td>12</td>\n",
       "    </tr>\n",
       "    <tr>\n",
       "      <th>19</th>\n",
       "      <td>4</td>\n",
       "      <td>entertainment</td>\n",
       "      <td>43</td>\n",
       "    </tr>\n",
       "    <tr>\n",
       "      <th>20</th>\n",
       "      <td>4</td>\n",
       "      <td>politics</td>\n",
       "      <td>9</td>\n",
       "    </tr>\n",
       "    <tr>\n",
       "      <th>21</th>\n",
       "      <td>4</td>\n",
       "      <td>tech</td>\n",
       "      <td>250</td>\n",
       "    </tr>\n",
       "  </tbody>\n",
       "</table>\n",
       "</div>"
      ],
      "text/plain": [
       "    topic       Category  count\n",
       "0       0       business      1\n",
       "1       0  entertainment      4\n",
       "2       0       politics      2\n",
       "3       0          sport    343\n",
       "4       0           tech      5\n",
       "5       1       business     15\n",
       "6       1  entertainment      7\n",
       "7       1       politics    252\n",
       "8       1           tech      1\n",
       "9       2       business    307\n",
       "10      2  entertainment      5\n",
       "11      2       politics     11\n",
       "12      2          sport      1\n",
       "13      2           tech      1\n",
       "14      3       business      1\n",
       "15      3  entertainment    214\n",
       "16      3          sport      2\n",
       "17      3           tech      4\n",
       "18      4       business     12\n",
       "19      4  entertainment     43\n",
       "20      4       politics      9\n",
       "21      4           tech    250"
      ]
     },
     "execution_count": 63,
     "metadata": {},
     "output_type": "execute_result"
    }
   ],
   "source": [
    "train_topics = np.argmax(W, axis=1)  # 各文書において最も値が大きいトピック\n",
    "train_df['topic'] = train_topics\n",
    "\n",
    "# トピック×カテゴリで集計\n",
    "topic_category_df = train_df.groupby(['topic', 'Category']).size().reset_index(name='count')\n",
    "topic_category_df\n"
   ]
  },
  {
   "cell_type": "markdown",
   "metadata": {},
   "source": [
    "これで「トピックがいくつの時は実際には何のカテゴリが多いか」を確認し、  \n",
    "一番多いカテゴリをトピックのラベルとします。\n"
   ]
  },
  {
   "cell_type": "code",
   "execution_count": 64,
   "metadata": {},
   "outputs": [
    {
     "data": {
      "text/plain": [
       "{0: 'sport', 1: 'politics', 2: 'business', 3: 'entertainment', 4: 'tech'}"
      ]
     },
     "execution_count": 64,
     "metadata": {},
     "output_type": "execute_result"
    }
   ],
   "source": [
    "# topic -> label のマッピングを作成\n",
    "topic_to_label = {}\n",
    "for t in range(num_topics):\n",
    "    subset = topic_category_df[topic_category_df['topic'] == t]\n",
    "    # 'count' が最大のカテゴリを取得\n",
    "    assigned_cat = subset.loc[ subset['count'].idxmax(), 'Category']\n",
    "    topic_to_label[t] = assigned_cat\n",
    "\n",
    "topic_to_label\n"
   ]
  },
  {
   "cell_type": "markdown",
   "metadata": {},
   "source": [
    "#### トレーニングデータに対する予測結果\n"
   ]
  },
  {
   "cell_type": "code",
   "execution_count": 65,
   "metadata": {},
   "outputs": [
    {
     "name": "stdout",
     "output_type": "stream",
     "text": [
      "教師なし (NMF) のトレーニング精度: 0.9167785234899329\n",
      "Classification Report (Train):\n",
      "                precision    recall  f1-score   support\n",
      "\n",
      "     business       0.94      0.91      0.93       336\n",
      "entertainment       0.97      0.78      0.87       273\n",
      "     politics       0.92      0.92      0.92       274\n",
      "        sport       0.97      0.99      0.98       346\n",
      "         tech       0.80      0.96      0.87       261\n",
      "\n",
      "     accuracy                           0.92      1490\n",
      "    macro avg       0.92      0.91      0.91      1490\n",
      " weighted avg       0.92      0.92      0.92      1490\n",
      "\n"
     ]
    }
   ],
   "source": [
    "train_df['unsupervised_pred'] = train_df['topic'].apply(lambda t: topic_to_label[t])\n",
    "accuracy_unsupervised_train = accuracy_score(train_df['Category'], train_df['unsupervised_pred'])\n",
    "print(\"教師なし (NMF) のトレーニング精度:\", accuracy_unsupervised_train)\n",
    "\n",
    "print(\"Classification Report (Train):\\n\", \n",
    "      classification_report(train_df['Category'], train_df['unsupervised_pred']))\n"
   ]
  },
  {
   "cell_type": "markdown",
   "metadata": {},
   "source": [
    "#### テストデータに対する予測\n",
    "1. TF-IDFベクトル化（`tfidf.transform()`）\n",
    "2. `nmf_model.transform()` でトピック分布を得る\n",
    "3. 最も値が大きいトピックから、上記の `topic_to_label` を使ってカテゴリを予測\n",
    "4. Kaggle に提出するための CSV を作成\n",
    "\n",
    "---\n"
   ]
  },
  {
   "cell_type": "code",
   "execution_count": 66,
   "metadata": {},
   "outputs": [],
   "source": [
    "X_test_tfidf = tfidf.transform(test_df['cleaned_text'])\n",
    "W_test = nmf_model.transform(X_test_tfidf)\n",
    "test_topics = np.argmax(W_test, axis=1)\n",
    "test_preds_nmf = [topic_to_label[t] for t in test_topics]\n",
    "\n",
    "# Kaggle本番ではテストラベルがないので精度はローカルでは測れないが\n",
    "# 提出用ファイルを作成する手順の一例:\n",
    "test_df['pred'] = test_preds_nmf\n",
    "submission_nmf = test_df[['ArticleId','pred']].rename(columns={'pred':'Category'})\n",
    "submission_nmf.to_csv('nmf_submission.csv', index=False)\n"
   ]
  },
  {
   "cell_type": "markdown",
   "metadata": {},
   "source": [
    "> **注意**: 実際のKaggle環境では、テストセットに真のラベルが付与されていないため、ローカルで精度を測定できません。提出してリーダーボードで確認します。\n",
    "\n",
    "---\n",
    "\n",
    "## 5. 教師あり学習との比較\n",
    "\n",
    "トレーニングデータにはラベルがあるため、**ロジスティック回帰**や**ナイーブベイズ**などで教師あり学習を行い、NMFによる教師なし手法と比べてみましょう。\n"
   ]
  },
  {
   "cell_type": "code",
   "execution_count": 67,
   "metadata": {},
   "outputs": [
    {
     "name": "stdout",
     "output_type": "stream",
     "text": [
      "ロジスティック回帰（Train Accuracy）: 0.9932885906040269\n",
      "Classification Report (Train):\n",
      "                precision    recall  f1-score   support\n",
      "\n",
      "     business       0.99      0.99      0.99       336\n",
      "entertainment       1.00      1.00      1.00       273\n",
      "     politics       0.99      0.99      0.99       274\n",
      "        sport       1.00      1.00      1.00       346\n",
      "         tech       0.99      0.99      0.99       261\n",
      "\n",
      "     accuracy                           0.99      1490\n",
      "    macro avg       0.99      0.99      0.99      1490\n",
      " weighted avg       0.99      0.99      0.99      1490\n",
      "\n"
     ]
    }
   ],
   "source": [
    "# 教師ありモデル用に X, y を準備\n",
    "X_train_sup = X_train_tfidf\n",
    "y_train_sup = train_df['Category']\n",
    "\n",
    "# 例：ロジスティック回帰\n",
    "clf_lr = LogisticRegression(random_state=RANDOM_SEED, max_iter=1000)\n",
    "clf_lr.fit(X_train_sup, y_train_sup)\n",
    "\n",
    "# トレーニングセットで評価\n",
    "train_preds_lr = clf_lr.predict(X_train_sup)\n",
    "accuracy_lr_train = accuracy_score(y_train_sup, train_preds_lr)\n",
    "print(\"ロジスティック回帰（Train Accuracy）:\", accuracy_lr_train)\n",
    "\n",
    "print(\"Classification Report (Train):\\n\",\n",
    "      classification_report(y_train_sup, train_preds_lr))\n"
   ]
  },
  {
   "cell_type": "markdown",
   "metadata": {},
   "source": [
    "### テストデータでの評価（教師あり）\n"
   ]
  },
  {
   "cell_type": "code",
   "execution_count": 68,
   "metadata": {},
   "outputs": [],
   "source": [
    "X_test_sup = tfidf.transform(test_df['cleaned_text'])\n",
    "test_preds_lr = clf_lr.predict(X_test_sup)\n",
    "\n",
    "# これもKaggle提出用例\n",
    "# submission_lr = test_df[['ArticleId']].copy()\n",
    "# submission_lr['Category'] = test_preds_lr\n",
    "# submission_lr.to_csv(\"lr_submission.csv\", index=False)\n"
   ]
  },
  {
   "cell_type": "markdown",
   "metadata": {},
   "source": [
    "他にもナイーブベイズなどを試して、パフォーマンスを比較してもよいでしょう。\n"
   ]
  },
  {
   "cell_type": "code",
   "execution_count": 69,
   "metadata": {},
   "outputs": [
    {
     "name": "stdout",
     "output_type": "stream",
     "text": [
      "ナイーブベイズ（Train Accuracy）: 0.9838926174496644\n"
     ]
    }
   ],
   "source": [
    "clf_nb = MultinomialNB()\n",
    "clf_nb.fit(X_train_sup, y_train_sup)\n",
    "train_preds_nb = clf_nb.predict(X_train_sup)\n",
    "accuracy_nb_train = accuracy_score(y_train_sup, train_preds_nb)\n",
    "print(\"ナイーブベイズ（Train Accuracy）:\", accuracy_nb_train)\n"
   ]
  },
  {
   "cell_type": "markdown",
   "metadata": {},
   "source": [
    "### 考察・比較\n",
    "- 教師なし(NMF) の精度 vs 教師あり(ロジスティック回帰, ナイーブベイズなど) の精度\n",
    "- トレーニングデータサイズを一部に減らして教師あり学習すると、精度はどう落ちるか？\n",
    "- 過学習の傾向は？\n",
    "- データ効率は？（少ないラベルでどの程度性能が出るか など）\n",
    "\n",
    "---\n",
    "\n",
    "## 6. まとめ & 次のステップ\n",
    "- EDA で分かった点の要約\n",
    "- 行列分解による手法と教師あり手法の比較\n",
    "- 精度向上のアイデア（ハイパーパラメータの調整、テキスト処理の工夫、アンサンブルなど）\n",
    "- 参考文献リスト\n",
    "\n",
    "---\n",
    "\n",
    "## 参考文献\n",
    "- [scikit-learn NMF の公式ドキュメント](https://scikit-learn.org/stable/modules/generated/sklearn.decomposition.NMF.html)\n",
    "- [TfidfVectorizer のドキュメント](https://scikit-learn.org/stable/modules/generated/sklearn.feature_extraction.text.TfidfVectorizer.html)\n",
    "- ...\n"
   ]
  }
 ],
 "metadata": {
  "kernelspec": {
   "display_name": "Python 3",
   "language": "python",
   "name": "python3"
  },
  "language_info": {
   "codemirror_mode": {
    "name": "ipython",
    "version": 3
   },
   "file_extension": ".py",
   "mimetype": "text/x-python",
   "name": "python",
   "nbconvert_exporter": "python",
   "pygments_lexer": "ipython3",
   "version": "3.11.10"
  }
 },
 "nbformat": 4,
 "nbformat_minor": 2
}
