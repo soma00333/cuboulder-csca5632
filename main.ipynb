{
  "cells": [
    {
      "cell_type": "markdown",
      "metadata": {},
      "source": [
        "# BBC News Classification (Part 1)\n",
        "\n",
        "This notebook demonstrates the steps to complete **Part 1** of the BBC News Classification assignment:\n",
        "\n",
        "1. **Exploratory Data Analysis (EDA)**\n",
        "2. **Unsupervised Learning (Matrix Factorization)**\n",
        "3. **Comparison with Supervised Learning**\n",
        "\n",
        "## Contents\n",
        "1. [Setup & Data Loading](#section1)\n",
        "2. [Exploratory Data Analysis (EDA)](#section2)\n",
        "3. [Text Preprocessing & Feature Engineering](#section3)\n",
        "4. [Unsupervised Learning (NMF)](#section4)\n",
        "5. [Comparison with Supervised Learning](#section5)\n",
        "6. [Summary & Next Steps](#section6)\n",
        "\n",
        "We will use the BBC News dataset provided by Kaggle:\n",
        "- **BBC News Train.csv** (1490 records)\n",
        "- **BBC News Test.csv** (~735 records)\n"
      ]
    },
    {
      "cell_type": "markdown",
      "metadata": {
        "id": "section1"
      },
      "source": [
        "## 1. Setup & Data Loading\n",
        "\n",
        "We assume the following files:\n",
        "- `BBC News Train.csv`: training data\n",
        "- `BBC News Test.csv`: test data\n",
        "\n",
        "Adjust file paths if necessary."
      ]
    },
    {
      "cell_type": "code",
      "execution_count": 174,
      "metadata": {},
      "outputs": [
        {
          "name": "stdout",
          "output_type": "stream",
          "text": [
            "Train shape: (1490, 3)\n",
            "Test shape: (735, 2)\n"
          ]
        },
        {
          "data": {
            "text/html": [
              "<div>\n",
              "<style scoped>\n",
              "    .dataframe tbody tr th:only-of-type {\n",
              "        vertical-align: middle;\n",
              "    }\n",
              "\n",
              "    .dataframe tbody tr th {\n",
              "        vertical-align: top;\n",
              "    }\n",
              "\n",
              "    .dataframe thead th {\n",
              "        text-align: right;\n",
              "    }\n",
              "</style>\n",
              "<table border=\"1\" class=\"dataframe\">\n",
              "  <thead>\n",
              "    <tr style=\"text-align: right;\">\n",
              "      <th></th>\n",
              "      <th>ArticleId</th>\n",
              "      <th>Text</th>\n",
              "      <th>Category</th>\n",
              "    </tr>\n",
              "  </thead>\n",
              "  <tbody>\n",
              "    <tr>\n",
              "      <th>0</th>\n",
              "      <td>1833</td>\n",
              "      <td>worldcom ex-boss launches defence lawyers defe...</td>\n",
              "      <td>business</td>\n",
              "    </tr>\n",
              "    <tr>\n",
              "      <th>1</th>\n",
              "      <td>154</td>\n",
              "      <td>german business confidence slides german busin...</td>\n",
              "      <td>business</td>\n",
              "    </tr>\n",
              "    <tr>\n",
              "      <th>2</th>\n",
              "      <td>1101</td>\n",
              "      <td>bbc poll indicates economic gloom citizens in ...</td>\n",
              "      <td>business</td>\n",
              "    </tr>\n",
              "    <tr>\n",
              "      <th>3</th>\n",
              "      <td>1976</td>\n",
              "      <td>lifestyle  governs mobile choice  faster  bett...</td>\n",
              "      <td>tech</td>\n",
              "    </tr>\n",
              "    <tr>\n",
              "      <th>4</th>\n",
              "      <td>917</td>\n",
              "      <td>enron bosses in $168m payout eighteen former e...</td>\n",
              "      <td>business</td>\n",
              "    </tr>\n",
              "  </tbody>\n",
              "</table>\n",
              "</div>"
            ],
            "text/plain": [
              "   ArticleId                                               Text  Category\n",
              "0       1833  worldcom ex-boss launches defence lawyers defe...  business\n",
              "1        154  german business confidence slides german busin...  business\n",
              "2       1101  bbc poll indicates economic gloom citizens in ...  business\n",
              "3       1976  lifestyle  governs mobile choice  faster  bett...      tech\n",
              "4        917  enron bosses in $168m payout eighteen former e...  business"
            ]
          },
          "execution_count": 174,
          "metadata": {},
          "output_type": "execute_result"
        }
      ],
      "source": [
        "import numpy as np\n",
        "import pandas as pd\n",
        "import matplotlib.pyplot as plt\n",
        "import seaborn as sns\n",
        "\n",
        "# Text processing\n",
        "import re\n",
        "import string\n",
        "\n",
        "# scikit-learn modules\n",
        "from sklearn.feature_extraction.text import TfidfVectorizer, CountVectorizer\n",
        "from sklearn.decomposition import NMF\n",
        "from sklearn.model_selection import train_test_split\n",
        "from sklearn.metrics import confusion_matrix, accuracy_score, classification_report\n",
        "\n",
        "# Supervised learning models\n",
        "from sklearn.linear_model import LogisticRegression\n",
        "from sklearn.naive_bayes import MultinomialNB\n",
        "\n",
        "# Random seed for reproducibility\n",
        "RANDOM_SEED = 42\n",
        "\n",
        "# Load CSV files (adjust paths as needed)\n",
        "train_df = pd.read_csv('./learn-ai-bbc/BBC News Train.csv')\n",
        "test_df = pd.read_csv('./learn-ai-bbc/BBC News Test.csv')\n",
        "\n",
        "print(\"Train shape:\", train_df.shape)\n",
        "print(\"Test shape:\", test_df.shape)\n",
        "\n",
        "# Peek at the training data\n",
        "train_df.head()"
      ]
    },
    {
      "cell_type": "markdown",
      "metadata": {
        "id": "section2"
      },
      "source": [
        "## 2. Exploratory Data Analysis (EDA)\n",
        "\n",
        "Here, we check:\n",
        "- Distribution of categories\n",
        "- Text length\n",
        "- Missing values"
      ]
    },
    {
      "cell_type": "code",
      "execution_count": 175,
      "metadata": {},
      "outputs": [
        {
          "name": "stdout",
          "output_type": "stream",
          "text": [
            "<class 'pandas.core.frame.DataFrame'>\n",
            "RangeIndex: 1490 entries, 0 to 1489\n",
            "Data columns (total 3 columns):\n",
            " #   Column     Non-Null Count  Dtype \n",
            "---  ------     --------------  ----- \n",
            " 0   ArticleId  1490 non-null   int64 \n",
            " 1   Text       1490 non-null   object\n",
            " 2   Category   1490 non-null   object\n",
            "dtypes: int64(1), object(2)\n",
            "memory usage: 35.1+ KB\n",
            "None\n",
            "         ArticleId\n",
            "count  1490.000000\n",
            "mean   1119.696644\n",
            "std     641.826283\n",
            "min       2.000000\n",
            "25%     565.250000\n",
            "50%    1112.500000\n",
            "75%    1680.750000\n",
            "max    2224.000000\n"
          ]
        },
        {
          "data": {
            "image/png": "[encoded data removed]",
            "text/plain": [
              "<Figure size 600x400 with 1 Axes>"
            ]
          },
          "metadata": {},
          "output_type": "display_data"
        }
      ],
      "source": [
        "# Basic info of the training data\n",
        "print(train_df.info())\n",
        "print(train_df.describe())\n",
        "\n",
        "# Category distribution\n",
        "plt.figure(figsize=(6,4))\n",
        "sns.countplot(x='Category', data=train_df)\n",
        "plt.title(\"Category Distribution (Training Data)\")\n",
        "plt.show()"
      ]
    },
    {
      "cell_type": "code",
      "execution_count": 176,
      "metadata": {},
      "outputs": [
        {
          "data": {
            "image/png": "[encoded data removed]",
            "text/plain": [
              "<Figure size 800x500 with 1 Axes>"
            ]
          },
          "metadata": {},
          "output_type": "display_data"
        },
        {
          "data": {
            "text/html": [
              "<div>\n",
              "<style scoped>\n",
              "    .dataframe tbody tr th:only-of-type {\n",
              "        vertical-align: middle;\n",
              "    }\n",
              "\n",
              "    .dataframe tbody tr th {\n",
              "        vertical-align: top;\n",
              "    }\n",
              "\n",
              "    .dataframe thead th {\n",
              "        text-align: right;\n",
              "    }\n",
              "</style>\n",
              "<table border=\"1\" class=\"dataframe\">\n",
              "  <thead>\n",
              "    <tr style=\"text-align: right;\">\n",
              "      <th></th>\n",
              "      <th>text_length</th>\n",
              "    </tr>\n",
              "  </thead>\n",
              "  <tbody>\n",
              "    <tr>\n",
              "      <th>count</th>\n",
              "      <td>1490.000000</td>\n",
              "    </tr>\n",
              "    <tr>\n",
              "      <th>mean</th>\n",
              "      <td>385.012752</td>\n",
              "    </tr>\n",
              "    <tr>\n",
              "      <th>std</th>\n",
              "      <td>210.898616</td>\n",
              "    </tr>\n",
              "    <tr>\n",
              "      <th>min</th>\n",
              "      <td>90.000000</td>\n",
              "    </tr>\n",
              "    <tr>\n",
              "      <th>25%</th>\n",
              "      <td>253.000000</td>\n",
              "    </tr>\n",
              "    <tr>\n",
              "      <th>50%</th>\n",
              "      <td>337.000000</td>\n",
              "    </tr>\n",
              "    <tr>\n",
              "      <th>75%</th>\n",
              "      <td>468.750000</td>\n",
              "    </tr>\n",
              "    <tr>\n",
              "      <th>max</th>\n",
              "      <td>3345.000000</td>\n",
              "    </tr>\n",
              "  </tbody>\n",
              "</table>\n",
              "</div>"
            ],
            "text/plain": [
              "       text_length\n",
              "count  1490.000000\n",
              "mean    385.012752\n",
              "std     210.898616\n",
              "min      90.000000\n",
              "25%     253.000000\n",
              "50%     337.000000\n",
              "75%     468.750000\n",
              "max    3345.000000"
            ]
          },
          "execution_count": 176,
          "metadata": {},
          "output_type": "execute_result"
        }
      ],
      "source": [
        "# Text length distribution\n",
        "train_df['text_length'] = train_df['Text'].apply(lambda x: len(str(x).split()))\n",
        "plt.figure(figsize=(8,5))\n",
        "sns.histplot(train_df['text_length'], bins=30, kde=True)\n",
        "plt.title(\"Text Length Distribution (Word Count)\")\n",
        "plt.show()\n",
        "\n",
        "train_df[['Text', 'text_length']].describe()"
      ]
    },
    {
      "cell_type": "markdown",
      "metadata": {},
      "source": [
        "### Check for Missing Values"
      ]
    },
    {
      "cell_type": "code",
      "execution_count": 177,
      "metadata": {},
      "outputs": [
        {
          "name": "stdout",
          "output_type": "stream",
          "text": [
            "Missing values in training set:\n",
            " ArticleId      0\n",
            "Text           0\n",
            "Category       0\n",
            "text_length    0\n",
            "dtype: int64\n",
            "Missing values in test set:\n",
            " ArticleId    0\n",
            "Text         0\n",
            "dtype: int64\n"
          ]
        }
      ],
      "source": [
        "print(\"Missing values in training set:\\n\", train_df.isnull().sum())\n",
        "print(\"Missing values in test set:\\n\", test_df.isnull().sum())"
      ]
    },
    {
      "cell_type": "markdown",
      "metadata": {
        "id": "section3"
      },
      "source": [
        "## 3. Text Preprocessing & Feature Engineering\n",
        "\n",
        "We will:\n",
        "1. Convert text to lowercase\n",
        "2. Remove punctuation and digits\n",
        "3. (Optionally) remove stopwords\n",
        "4. Vectorize with TF-IDF\n"
      ]
    },
    {
      "cell_type": "code",
      "execution_count": 178,
      "metadata": {},
      "outputs": [],
      "source": [
        "import nltk\n",
        "# If not downloaded yet: nltk.download('stopwords')\n",
        "from nltk.corpus import stopwords\n",
        "\n",
        "STOPWORDS = set(stopwords.words('english'))\n",
        "\n",
        "def clean_text(text):\n",
        "    \"\"\"\n",
        "    Simple cleaning:\n",
        "    1. Lowercase\n",
        "    2. Remove punctuation/digits\n",
        "    3. Whitespace cleanup\n",
        "    (Optional) stopwords removal\n",
        "    \"\"\"\n",
        "    text = text.lower()\n",
        "    text = re.sub(r'[^a-z\\s]', '', text)\n",
        "    text = text.split()\n",
        "    # text = [word for word in text if word not in STOPWORDS]\n",
        "    text = ' '.join(text)\n",
        "    return text\n",
        "\n",
        "# Apply cleaning to train and test\n",
        "train_df['cleaned_text'] = train_df['Text'].apply(clean_text)\n",
        "test_df['cleaned_text']  = test_df['Text'].apply(clean_text)\n",
        "\n",
        "# TF-IDF Vectorizer\n",
        "tfidf = TfidfVectorizer(\n",
        "    max_features=2000,\n",
        "    stop_words='english',\n",
        "    min_df=2,\n",
        "    max_df=0.8\n",
        ")\n",
        "\n",
        "# Fit on training data\n",
        "X_train_tfidf = tfidf.fit_transform(train_df['cleaned_text'])\n",
        "y_train = train_df['Category']  # For supervised learning comparison\n"
      ]
    },
    {
      "cell_type": "markdown",
      "metadata": {
        "id": "section4"
      },
      "source": [
        "## 4. Unsupervised Learning (NMF)\n",
        "\n",
        "We use **Non-Negative Matrix Factorization (NMF)**:\n",
        "- Decompose `X_train_tfidf` into `W * H`.\n",
        "- `W` is (document × topic), `H` is (topic × features).\n",
        "- Identify each topic by top words, then map topics to actual categories by majority vote."
      ]
    },
    {
      "cell_type": "code",
      "execution_count": 179,
      "metadata": {},
      "outputs": [
        {
          "name": "stdout",
          "output_type": "stream",
          "text": [
            "W shape: (1490, 5)\n",
            "H shape: (5, 2000)\n"
          ]
        }
      ],
      "source": [
        "num_topics = 5  # We expect 5 categories\n",
        "\n",
        "nmf_model = NMF(\n",
        "    n_components=num_topics,\n",
        "    random_state=RANDOM_SEED,\n",
        "    init='nndsvd',\n",
        "    max_iter=200\n",
        ")\n",
        "\n",
        "W = nmf_model.fit_transform(X_train_tfidf)  # shape: (num_docs, num_topics)\n",
        "H = nmf_model.components_                   # shape: (num_topics, num_features)\n",
        "\n",
        "print(\"W shape:\", W.shape)\n",
        "print(\"H shape:\", H.shape)"
      ]
    },
    {
      "cell_type": "markdown",
      "metadata": {},
      "source": [
        "### Inspect Top Words per Topic"
      ]
    },
    {
      "cell_type": "code",
      "execution_count": 180,
      "metadata": {},
      "outputs": [
        {
          "name": "stdout",
          "output_type": "stream",
          "text": [
            "Topic 1: england, game, win, wales, ireland, cup, players, play, france, chelsea\n",
            "Topic 2: mr, labour, blair, election, brown, party, government, minister, prime, howard\n",
            "Topic 3: bn, growth, economy, year, sales, market, bank, oil, economic, shares\n",
            "Topic 4: film, best, awards, award, actor, films, actress, festival, won, director\n",
            "Topic 5: people, mobile, music, phone, technology, digital, users, software, phones, broadband\n"
          ]
        }
      ],
      "source": [
        "feature_names = tfidf.get_feature_names_out()\n",
        "\n",
        "def show_top_words_per_topic(H, feature_names, top_n=10):\n",
        "    for idx, topic_vec in enumerate(H):\n",
        "        top_indices = topic_vec.argsort()[::-1][:top_n]\n",
        "        top_words = [feature_names[i] for i in top_indices]\n",
        "        print(f\"Topic {idx+1}:\", \", \".join(top_words))\n",
        "\n",
        "show_top_words_per_topic(H, feature_names, top_n=10)"
      ]
    },
    {
      "cell_type": "markdown",
      "metadata": {},
      "source": [
        "### Assign Topic → Category\n",
        "1. For each document, find the topic with the highest weight in `W`.\n",
        "2. Use majority vote of true categories within that topic to label it."
      ]
    },
    {
      "cell_type": "code",
      "execution_count": 181,
      "metadata": {},
      "outputs": [
        {
          "data": {
            "text/html": [
              "<div>\n",
              "<style scoped>\n",
              "    .dataframe tbody tr th:only-of-type {\n",
              "        vertical-align: middle;\n",
              "    }\n",
              "\n",
              "    .dataframe tbody tr th {\n",
              "        vertical-align: top;\n",
              "    }\n",
              "\n",
              "    .dataframe thead th {\n",
              "        text-align: right;\n",
              "    }\n",
              "</style>\n",
              "<table border=\"1\" class=\"dataframe\">\n",
              "  <thead>\n",
              "    <tr style=\"text-align: right;\">\n",
              "      <th></th>\n",
              "      <th>topic</th>\n",
              "      <th>Category</th>\n",
              "      <th>count</th>\n",
              "    </tr>\n",
              "  </thead>\n",
              "  <tbody>\n",
              "    <tr>\n",
              "      <th>0</th>\n",
              "      <td>0</td>\n",
              "      <td>business</td>\n",
              "      <td>1</td>\n",
              "    </tr>\n",
              "    <tr>\n",
              "      <th>1</th>\n",
              "      <td>0</td>\n",
              "      <td>entertainment</td>\n",
              "      <td>4</td>\n",
              "    </tr>\n",
              "    <tr>\n",
              "      <th>2</th>\n",
              "      <td>0</td>\n",
              "      <td>politics</td>\n",
              "      <td>2</td>\n",
              "    </tr>\n",
              "    <tr>\n",
              "      <th>3</th>\n",
              "      <td>0</td>\n",
              "      <td>sport</td>\n",
              "      <td>343</td>\n",
              "    </tr>\n",
              "    <tr>\n",
              "      <th>4</th>\n",
              "      <td>0</td>\n",
              "      <td>tech</td>\n",
              "      <td>5</td>\n",
              "    </tr>\n",
              "    <tr>\n",
              "      <th>5</th>\n",
              "      <td>1</td>\n",
              "      <td>business</td>\n",
              "      <td>15</td>\n",
              "    </tr>\n",
              "    <tr>\n",
              "      <th>6</th>\n",
              "      <td>1</td>\n",
              "      <td>entertainment</td>\n",
              "      <td>7</td>\n",
              "    </tr>\n",
              "    <tr>\n",
              "      <th>7</th>\n",
              "      <td>1</td>\n",
              "      <td>politics</td>\n",
              "      <td>252</td>\n",
              "    </tr>\n",
              "    <tr>\n",
              "      <th>8</th>\n",
              "      <td>1</td>\n",
              "      <td>tech</td>\n",
              "      <td>1</td>\n",
              "    </tr>\n",
              "    <tr>\n",
              "      <th>9</th>\n",
              "      <td>2</td>\n",
              "      <td>business</td>\n",
              "      <td>307</td>\n",
              "    </tr>\n",
              "    <tr>\n",
              "      <th>10</th>\n",
              "      <td>2</td>\n",
              "      <td>entertainment</td>\n",
              "      <td>5</td>\n",
              "    </tr>\n",
              "    <tr>\n",
              "      <th>11</th>\n",
              "      <td>2</td>\n",
              "      <td>politics</td>\n",
              "      <td>11</td>\n",
              "    </tr>\n",
              "    <tr>\n",
              "      <th>12</th>\n",
              "      <td>2</td>\n",
              "      <td>sport</td>\n",
              "      <td>1</td>\n",
              "    </tr>\n",
              "    <tr>\n",
              "      <th>13</th>\n",
              "      <td>2</td>\n",
              "      <td>tech</td>\n",
              "      <td>1</td>\n",
              "    </tr>\n",
              "    <tr>\n",
              "      <th>14</th>\n",
              "      <td>3</td>\n",
              "      <td>business</td>\n",
              "      <td>1</td>\n",
              "    </tr>\n",
              "    <tr>\n",
              "      <th>15</th>\n",
              "      <td>3</td>\n",
              "      <td>entertainment</td>\n",
              "      <td>214</td>\n",
              "    </tr>\n",
              "    <tr>\n",
              "      <th>16</th>\n",
              "      <td>3</td>\n",
              "      <td>sport</td>\n",
              "      <td>2</td>\n",
              "    </tr>\n",
              "    <tr>\n",
              "      <th>17</th>\n",
              "      <td>3</td>\n",
              "      <td>tech</td>\n",
              "      <td>4</td>\n",
              "    </tr>\n",
              "    <tr>\n",
              "      <th>18</th>\n",
              "      <td>4</td>\n",
              "      <td>business</td>\n",
              "      <td>12</td>\n",
              "    </tr>\n",
              "    <tr>\n",
              "      <th>19</th>\n",
              "      <td>4</td>\n",
              "      <td>entertainment</td>\n",
              "      <td>43</td>\n",
              "    </tr>\n",
              "    <tr>\n",
              "      <th>20</th>\n",
              "      <td>4</td>\n",
              "      <td>politics</td>\n",
              "      <td>9</td>\n",
              "    </tr>\n",
              "    <tr>\n",
              "      <th>21</th>\n",
              "      <td>4</td>\n",
              "      <td>tech</td>\n",
              "      <td>250</td>\n",
              "    </tr>\n",
              "  </tbody>\n",
              "</table>\n",
              "</div>"
            ],
            "text/plain": [
              "    topic       Category  count\n",
              "0       0       business      1\n",
              "1       0  entertainment      4\n",
              "2       0       politics      2\n",
              "3       0          sport    343\n",
              "4       0           tech      5\n",
              "5       1       business     15\n",
              "6       1  entertainment      7\n",
              "7       1       politics    252\n",
              "8       1           tech      1\n",
              "9       2       business    307\n",
              "10      2  entertainment      5\n",
              "11      2       politics     11\n",
              "12      2          sport      1\n",
              "13      2           tech      1\n",
              "14      3       business      1\n",
              "15      3  entertainment    214\n",
              "16      3          sport      2\n",
              "17      3           tech      4\n",
              "18      4       business     12\n",
              "19      4  entertainment     43\n",
              "20      4       politics      9\n",
              "21      4           tech    250"
            ]
          },
          "execution_count": 181,
          "metadata": {},
          "output_type": "execute_result"
        }
      ],
      "source": [
        "# Find the best topic per document\n",
        "train_topics = np.argmax(W, axis=1)\n",
        "train_df['topic'] = train_topics\n",
        "\n",
        "# Count how many documents for each (topic, category)\n",
        "topic_category_df = train_df.groupby(['topic','Category']).size().reset_index(name='count')\n",
        "topic_category_df"
      ]
    },
    {
      "cell_type": "code",
      "execution_count": 182,
      "metadata": {},
      "outputs": [
        {
          "data": {
            "text/plain": [
              "{0: 'sport', 1: 'politics', 2: 'business', 3: 'entertainment', 4: 'tech'}"
            ]
          },
          "execution_count": 182,
          "metadata": {},
          "output_type": "execute_result"
        }
      ],
      "source": [
        "# Create topic->label mapping\n",
        "topic_to_label = {}\n",
        "for t in range(num_topics):\n",
        "    subset = topic_category_df[topic_category_df['topic'] == t]\n",
        "    assigned_cat = subset.loc[subset['count'].idxmax(), 'Category']\n",
        "    topic_to_label[t] = assigned_cat\n",
        "\n",
        "topic_to_label"
      ]
    },
    {
      "cell_type": "markdown",
      "metadata": {},
      "source": [
        "### Evaluate on Training Data"
      ]
    },
    {
      "cell_type": "code",
      "execution_count": 183,
      "metadata": {},
      "outputs": [
        {
          "name": "stdout",
          "output_type": "stream",
          "text": [
            "Unsupervised (NMF) Training Accuracy: 0.9167785234899329\n",
            "Classification Report (Train):\n",
            "                precision    recall  f1-score   support\n",
            "\n",
            "     business       0.94      0.91      0.93       336\n",
            "entertainment       0.97      0.78      0.87       273\n",
            "     politics       0.92      0.92      0.92       274\n",
            "        sport       0.97      0.99      0.98       346\n",
            "         tech       0.80      0.96      0.87       261\n",
            "\n",
            "     accuracy                           0.92      1490\n",
            "    macro avg       0.92      0.91      0.91      1490\n",
            " weighted avg       0.92      0.92      0.92      1490\n",
            "\n"
          ]
        }
      ],
      "source": [
        "train_df['unsupervised_pred'] = train_df['topic'].apply(lambda t: topic_to_label[t])\n",
        "accuracy_unsupervised_train = accuracy_score(train_df['Category'], train_df['unsupervised_pred'])\n",
        "print(\"Unsupervised (NMF) Training Accuracy:\", accuracy_unsupervised_train)\n",
        "\n",
        "print(\"Classification Report (Train):\\n\",\n",
        "      classification_report(train_df['Category'], train_df['unsupervised_pred']))"
      ]
    },
    {
      "cell_type": "markdown",
      "metadata": {},
      "source": [
        "### Predict on Test Data\n",
        "We transform the test data using the same TF-IDF vectorizer, then apply the NMF model. The predicted topic is mapped to a label using `topic_to_label`.\n",
        "We can create a submission CSV for Kaggle."
      ]
    },
    {
      "cell_type": "code",
      "execution_count": 184,
      "metadata": {},
      "outputs": [
        {
          "data": {
            "text/html": [
              "<div>\n",
              "<style scoped>\n",
              "    .dataframe tbody tr th:only-of-type {\n",
              "        vertical-align: middle;\n",
              "    }\n",
              "\n",
              "    .dataframe tbody tr th {\n",
              "        vertical-align: top;\n",
              "    }\n",
              "\n",
              "    .dataframe thead th {\n",
              "        text-align: right;\n",
              "    }\n",
              "</style>\n",
              "<table border=\"1\" class=\"dataframe\">\n",
              "  <thead>\n",
              "    <tr style=\"text-align: right;\">\n",
              "      <th></th>\n",
              "      <th>ArticleId</th>\n",
              "      <th>Category</th>\n",
              "    </tr>\n",
              "  </thead>\n",
              "  <tbody>\n",
              "    <tr>\n",
              "      <th>0</th>\n",
              "      <td>1018</td>\n",
              "      <td>sport</td>\n",
              "    </tr>\n",
              "    <tr>\n",
              "      <th>1</th>\n",
              "      <td>1319</td>\n",
              "      <td>tech</td>\n",
              "    </tr>\n",
              "    <tr>\n",
              "      <th>2</th>\n",
              "      <td>1138</td>\n",
              "      <td>sport</td>\n",
              "    </tr>\n",
              "    <tr>\n",
              "      <th>3</th>\n",
              "      <td>459</td>\n",
              "      <td>business</td>\n",
              "    </tr>\n",
              "    <tr>\n",
              "      <th>4</th>\n",
              "      <td>1020</td>\n",
              "      <td>sport</td>\n",
              "    </tr>\n",
              "  </tbody>\n",
              "</table>\n",
              "</div>"
            ],
            "text/plain": [
              "   ArticleId  Category\n",
              "0       1018     sport\n",
              "1       1319      tech\n",
              "2       1138     sport\n",
              "3        459  business\n",
              "4       1020     sport"
            ]
          },
          "execution_count": 184,
          "metadata": {},
          "output_type": "execute_result"
        }
      ],
      "source": [
        "X_test_tfidf = tfidf.transform(test_df['cleaned_text'])\n",
        "W_test = nmf_model.transform(X_test_tfidf)\n",
        "test_topics = np.argmax(W_test, axis=1)\n",
        "test_preds_nmf = [topic_to_label[t] for t in test_topics]\n",
        "\n",
        "# Create submission file\n",
        "test_df['pred'] = test_preds_nmf\n",
        "submission_nmf = test_df[['ArticleId','pred']].rename(columns={'pred':'Category'})\n",
        "submission_nmf.to_csv('nmf_submission.csv', index=False)\n",
        "submission_nmf.head()"
      ]
    },
    {
      "cell_type": "markdown",
      "metadata": {
        "id": "section5"
      },
      "source": [
        "## 5. Comparison with Supervised Learning\n",
        "\n",
        "We'll train a Logistic Regression and/or Naive Bayes model on the same training data and compare performance."
      ]
    },
    {
      "cell_type": "code",
      "execution_count": 185,
      "metadata": {},
      "outputs": [
        {
          "name": "stdout",
          "output_type": "stream",
          "text": [
            "Logistic Regression (Train Accuracy): 0.9932885906040269\n",
            "\n",
            "Classification Report (Train):\n",
            "                precision    recall  f1-score   support\n",
            "\n",
            "     business       0.99      0.99      0.99       336\n",
            "entertainment       1.00      1.00      1.00       273\n",
            "     politics       0.99      0.99      0.99       274\n",
            "        sport       1.00      1.00      1.00       346\n",
            "         tech       0.99      0.99      0.99       261\n",
            "\n",
            "     accuracy                           0.99      1490\n",
            "    macro avg       0.99      0.99      0.99      1490\n",
            " weighted avg       0.99      0.99      0.99      1490\n",
            "\n"
          ]
        }
      ],
      "source": [
        "# Logistic Regression\n",
        "X_train_sup = X_train_tfidf\n",
        "y_train_sup = train_df['Category']\n",
        "\n",
        "clf_lr = LogisticRegression(random_state=RANDOM_SEED, max_iter=1000)\n",
        "clf_lr.fit(X_train_sup, y_train_sup)\n",
        "\n",
        "train_preds_lr = clf_lr.predict(X_train_sup)\n",
        "accuracy_lr_train = accuracy_score(y_train_sup, train_preds_lr)\n",
        "print(\"Logistic Regression (Train Accuracy):\", accuracy_lr_train)\n",
        "print(\"\\nClassification Report (Train):\\n\",\n",
        "      classification_report(y_train_sup, train_preds_lr))"
      ]
    },
    {
      "cell_type": "code",
      "execution_count": 186,
      "metadata": {},
      "outputs": [
        {
          "name": "stdout",
          "output_type": "stream",
          "text": [
            "Naive Bayes (Train Accuracy): 0.9838926174496644\n"
          ]
        }
      ],
      "source": [
        "# Naive Bayes\n",
        "clf_nb = MultinomialNB()\n",
        "clf_nb.fit(X_train_sup, y_train_sup)\n",
        "\n",
        "train_preds_nb = clf_nb.predict(X_train_sup)\n",
        "accuracy_nb_train = accuracy_score(y_train_sup, train_preds_nb)\n",
        "print(\"Naive Bayes (Train Accuracy):\", accuracy_nb_train)"
      ]
    },
    {
      "cell_type": "markdown",
      "metadata": {},
      "source": [
        "### Predict on Test Data (Supervised)\n",
        "Create a CSV for Kaggle submission."
      ]
    },
    {
      "cell_type": "code",
      "execution_count": 187,
      "metadata": {},
      "outputs": [
        {
          "data": {
            "text/html": [
              "<div>\n",
              "<style scoped>\n",
              "    .dataframe tbody tr th:only-of-type {\n",
              "        vertical-align: middle;\n",
              "    }\n",
              "\n",
              "    .dataframe tbody tr th {\n",
              "        vertical-align: top;\n",
              "    }\n",
              "\n",
              "    .dataframe thead th {\n",
              "        text-align: right;\n",
              "    }\n",
              "</style>\n",
              "<table border=\"1\" class=\"dataframe\">\n",
              "  <thead>\n",
              "    <tr style=\"text-align: right;\">\n",
              "      <th></th>\n",
              "      <th>ArticleId</th>\n",
              "      <th>Category</th>\n",
              "    </tr>\n",
              "  </thead>\n",
              "  <tbody>\n",
              "    <tr>\n",
              "      <th>0</th>\n",
              "      <td>1018</td>\n",
              "      <td>sport</td>\n",
              "    </tr>\n",
              "    <tr>\n",
              "      <th>1</th>\n",
              "      <td>1319</td>\n",
              "      <td>tech</td>\n",
              "    </tr>\n",
              "    <tr>\n",
              "      <th>2</th>\n",
              "      <td>1138</td>\n",
              "      <td>sport</td>\n",
              "    </tr>\n",
              "    <tr>\n",
              "      <th>3</th>\n",
              "      <td>459</td>\n",
              "      <td>business</td>\n",
              "    </tr>\n",
              "    <tr>\n",
              "      <th>4</th>\n",
              "      <td>1020</td>\n",
              "      <td>sport</td>\n",
              "    </tr>\n",
              "  </tbody>\n",
              "</table>\n",
              "</div>"
            ],
            "text/plain": [
              "   ArticleId  Category\n",
              "0       1018     sport\n",
              "1       1319      tech\n",
              "2       1138     sport\n",
              "3        459  business\n",
              "4       1020     sport"
            ]
          },
          "execution_count": 187,
          "metadata": {},
          "output_type": "execute_result"
        }
      ],
      "source": [
        "# Example using Logistic Regression\n",
        "X_test_sup = tfidf.transform(test_df['cleaned_text'])\n",
        "test_preds_lr = clf_lr.predict(X_test_sup)\n",
        "\n",
        "submission_lr = test_df[['ArticleId']].copy()\n",
        "submission_lr['Category'] = test_preds_lr\n",
        "submission_lr.to_csv('lr_submission.csv', index=False)\n",
        "submission_lr.head()"
      ]
    },
    {
      "cell_type": "markdown",
      "metadata": {
        "id": "section6"
      },
      "source": [
        "## 6. Summary & Next Steps\n",
        "\n",
        "### 6.1 EDA Observations\n",
        "- The dataset has 5 categories: business, entertainment, politics, sport, tech.\n",
        "- Text lengths typically range from ~90 to ~3000 words.\n",
        "- No missing values in training or test.\n",
        "\n",
        "### 6.2 Unsupervised Approach (NMF)\n",
        "- Approximately 90%+ accuracy on the training set.\n",
        "- Each topic is associated with top words that correlate well with each category.\n",
        "- Potentially beneficial when labeled data is scarce.\n",
        "\n",
        "### 6.3 Supervised Approach\n",
        "- Logistic Regression can achieve ~99% accuracy on the training set.\n",
        "- Naive Bayes also shows high performance (~98% accuracy).\n",
        "- If enough labeled data is available, supervised methods usually outperform unsupervised approaches.\n",
        "\n",
        "### 6.4 Possible Improvements\n",
        "- **Hyperparameter Tuning**: Adjust `max_features`, `n_components`, etc.\n",
        "- **Text Preprocessing**: Add stopword removal, lemmatization, or n-grams.\n",
        "- **Partial Data Experiments**: Evaluate supervised models with only 10%, 20%, 50% of the training set to see data efficiency.\n",
        "- **Ensemble Methods**: Combine multiple models or incorporate topic information.\n",
        "\n",
        "### 6.5 References\n",
        "- [scikit-learn: NMF Documentation](https://scikit-learn.org/stable/modules/generated/sklearn.decomposition.NMF.html)\n",
        "- [TfidfVectorizer Documentation](https://scikit-learn.org/stable/modules/generated/sklearn.feature_extraction.text.TfidfVectorizer.html)\n",
        "- [Kaggle: BBC News Classification Competition](https://www.kaggle.com/competitions/learn-ai-bbc)\n",
        "\n",
        "This concludes the Part 1 notebook for BBC News Classification."
      ]
    }
  ],
  "metadata": {
    "language_info": {
      "name": "python"
    }
  },
  "nbformat": 4,
  "nbformat_minor": 2
}
